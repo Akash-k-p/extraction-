{
 "cells": [
  {
   "cell_type": "code",
   "execution_count": 85,
   "id": "deeb26b7",
   "metadata": {},
   "outputs": [
    {
     "name": "stdout",
     "output_type": "stream",
     "text": [
      "Requirement already satisfied: textract in c:\\users\\91886\\anaconda3\\lib\\site-packages (1.6.5)\n",
      "Requirement already satisfied: argcomplete~=1.10.0 in c:\\users\\91886\\anaconda3\\lib\\site-packages (from textract) (1.10.3)\n",
      "Requirement already satisfied: chardet==3.* in c:\\users\\91886\\anaconda3\\lib\\site-packages (from textract) (3.0.4)\n",
      "Requirement already satisfied: python-pptx~=0.6.18 in c:\\users\\91886\\anaconda3\\lib\\site-packages (from textract) (0.6.21)\n",
      "Requirement already satisfied: pdfminer.six==20191110 in c:\\users\\91886\\anaconda3\\lib\\site-packages (from textract) (20191110)\n",
      "Requirement already satisfied: six~=1.12.0 in c:\\users\\91886\\anaconda3\\lib\\site-packages (from textract) (1.12.0)\n",
      "Requirement already satisfied: docx2txt~=0.8 in c:\\users\\91886\\anaconda3\\lib\\site-packages (from textract) (0.8)\n",
      "Requirement already satisfied: SpeechRecognition~=3.8.1 in c:\\users\\91886\\anaconda3\\lib\\site-packages (from textract) (3.8.1)\n",
      "Requirement already satisfied: extract-msg<=0.29.* in c:\\users\\91886\\anaconda3\\lib\\site-packages (from textract) (0.28.7)\n",
      "Requirement already satisfied: beautifulsoup4~=4.8.0 in c:\\users\\91886\\anaconda3\\lib\\site-packages (from textract) (4.8.2)\n",
      "Requirement already satisfied: xlrd~=1.2.0 in c:\\users\\91886\\anaconda3\\lib\\site-packages (from textract) (1.2.0)\n",
      "Requirement already satisfied: sortedcontainers in c:\\users\\91886\\anaconda3\\lib\\site-packages (from pdfminer.six==20191110->textract) (2.4.0)\n",
      "Requirement already satisfied: pycryptodome in c:\\users\\91886\\anaconda3\\lib\\site-packages (from pdfminer.six==20191110->textract) (3.17)\n",
      "Requirement already satisfied: soupsieve>=1.2 in c:\\users\\91886\\anaconda3\\lib\\site-packages (from beautifulsoup4~=4.8.0->textract) (2.3.1)\n",
      "Requirement already satisfied: imapclient==2.1.0 in c:\\users\\91886\\anaconda3\\lib\\site-packages (from extract-msg<=0.29.*->textract) (2.1.0)\n",
      "Requirement already satisfied: ebcdic>=1.1.1 in c:\\users\\91886\\anaconda3\\lib\\site-packages (from extract-msg<=0.29.*->textract) (1.1.1)\n",
      "Requirement already satisfied: olefile>=0.46 in c:\\users\\91886\\anaconda3\\lib\\site-packages (from extract-msg<=0.29.*->textract) (0.46)\n",
      "Requirement already satisfied: compressed-rtf>=1.0.6 in c:\\users\\91886\\anaconda3\\lib\\site-packages (from extract-msg<=0.29.*->textract) (1.0.6)\n",
      "Requirement already satisfied: tzlocal>=2.1 in c:\\users\\91886\\anaconda3\\lib\\site-packages (from extract-msg<=0.29.*->textract) (4.2)\n",
      "Requirement already satisfied: XlsxWriter>=0.5.7 in c:\\users\\91886\\anaconda3\\lib\\site-packages (from python-pptx~=0.6.18->textract) (3.0.3)\n",
      "Requirement already satisfied: lxml>=3.1.0 in c:\\users\\91886\\anaconda3\\lib\\site-packages (from python-pptx~=0.6.18->textract) (4.9.1)\n",
      "Requirement already satisfied: Pillow>=3.3.2 in c:\\users\\91886\\anaconda3\\lib\\site-packages (from python-pptx~=0.6.18->textract) (9.2.0)\n",
      "Requirement already satisfied: pytz-deprecation-shim in c:\\users\\91886\\anaconda3\\lib\\site-packages (from tzlocal>=2.1->extract-msg<=0.29.*->textract) (0.1.0.post0)\n",
      "Requirement already satisfied: tzdata in c:\\users\\91886\\anaconda3\\lib\\site-packages (from tzlocal>=2.1->extract-msg<=0.29.*->textract) (2022.7)\n"
     ]
    }
   ],
   "source": [
    "!pip install textract"
   ]
  },
  {
   "cell_type": "code",
   "execution_count": 1,
   "id": "2bfec4d5",
   "metadata": {},
   "outputs": [],
   "source": [
    "def extract_pdfminer1(str):\n",
    "\n",
    "    from pdfminer.high_level import extract_text\n",
    "\n",
    "    text = extract_text(str)\n",
    "    return text"
   ]
  },
  {
   "cell_type": "code",
   "execution_count": 2,
   "id": "5e56b8d9",
   "metadata": {},
   "outputs": [],
   "source": [
    "def extract_pdfminer2(str):\n",
    "    from io import StringIO\n",
    "\n",
    "    from pdfminer.converter import TextConverter\n",
    "    from pdfminer.layout import LAParams\n",
    "    from pdfminer.pdfdocument import PDFDocument\n",
    "    from pdfminer.pdfinterp import PDFResourceManager, PDFPageInterpreter\n",
    "    from pdfminer.pdfpage import PDFPage\n",
    "    from pdfminer.pdfparser import PDFParser\n",
    "\n",
    "    output_string = StringIO()\n",
    "    with open(str, 'rb') as in_file:\n",
    "        parser = PDFParser(in_file)\n",
    "        doc = PDFDocument(parser)\n",
    "        rsrcmgr = PDFResourceManager()\n",
    "        device = TextConverter(rsrcmgr, output_string, laparams=LAParams())\n",
    "        interpreter = PDFPageInterpreter(rsrcmgr, device)\n",
    "        for page in PDFPage.create_pages(doc):\n",
    "            interpreter.process_page(page)\n",
    "\n",
    "    return output_string.getvalue()\n",
    "    "
   ]
  },
  {
   "cell_type": "code",
   "execution_count": 3,
   "id": "6209dd4b",
   "metadata": {},
   "outputs": [],
   "source": [
    "def extract_pypdf2(path):\n",
    "    from PyPDF2 import  PdfReader\n",
    "    from io import StringIO\n",
    "    \n",
    "    a=PdfReader(path)\n",
    "    text=\"\"\n",
    "    for pageno in range(len(a.pages)):\n",
    "        text=text+a.pages[pageno].extract_text()\n",
    "    return text   \n",
    "        "
   ]
  },
  {
   "cell_type": "code",
   "execution_count": 4,
   "id": "a6d0f988",
   "metadata": {},
   "outputs": [],
   "source": [
    "def extract_textract(path):\n",
    "    #for decoding\n",
    "    import codecs\n",
    "    #using Textract\n",
    "    import textract\n",
    "    #extract text in byte format\n",
    "    textract_text = textract.process(path)\n",
    "    #convert bytes to string\n",
    "    textract_str_text = codecs.decode(textract_text)\n",
    "    return textract_str_text"
   ]
  },
  {
   "cell_type": "code",
   "execution_count": 5,
   "id": "0f379fd7",
   "metadata": {},
   "outputs": [],
   "source": [
    "str1=\"./EAadhar.pdf\"\n",
    "str2=\"./testfile.pdf\"\n",
    "str3='./c_prog.pdf'\n",
    "str4='./Aadhar_new.pdf'"
   ]
  },
  {
   "cell_type": "code",
   "execution_count": null,
   "id": "1f1088d3",
   "metadata": {},
   "outputs": [],
   "source": [
    "conda install -c tc06580 pymupdf"
   ]
  },
  {
   "cell_type": "code",
   "execution_count": 7,
   "id": "657eeb96",
   "metadata": {},
   "outputs": [
    {
     "ename": "ShellError",
     "evalue": "The command `pdftotext ./Aadhar_new.pdf -` failed with exit code 127\n------------- stdout -------------\n------------- stderr -------------\n",
     "output_type": "error",
     "traceback": [
      "\u001b[1;31m---------------------------------------------------------------------------\u001b[0m",
      "\u001b[1;31mFileNotFoundError\u001b[0m                         Traceback (most recent call last)",
      "\u001b[1;32m~\\anaconda3\\lib\\site-packages\\textract\\parsers\\utils.py\u001b[0m in \u001b[0;36mrun\u001b[1;34m(self, args)\u001b[0m\n\u001b[0;32m     86\u001b[0m         \u001b[1;32mtry\u001b[0m\u001b[1;33m:\u001b[0m\u001b[1;33m\u001b[0m\u001b[1;33m\u001b[0m\u001b[0m\n\u001b[1;32m---> 87\u001b[1;33m             pipe = subprocess.Popen(\n\u001b[0m\u001b[0;32m     88\u001b[0m                 \u001b[0margs\u001b[0m\u001b[1;33m,\u001b[0m\u001b[1;33m\u001b[0m\u001b[1;33m\u001b[0m\u001b[0m\n",
      "\u001b[1;32m~\\anaconda3\\lib\\subprocess.py\u001b[0m in \u001b[0;36m__init__\u001b[1;34m(self, args, bufsize, executable, stdin, stdout, stderr, preexec_fn, close_fds, shell, cwd, env, universal_newlines, startupinfo, creationflags, restore_signals, start_new_session, pass_fds, user, group, extra_groups, encoding, errors, text, umask)\u001b[0m\n\u001b[0;32m    950\u001b[0m \u001b[1;33m\u001b[0m\u001b[0m\n\u001b[1;32m--> 951\u001b[1;33m             self._execute_child(args, executable, preexec_fn, close_fds,\n\u001b[0m\u001b[0;32m    952\u001b[0m                                 \u001b[0mpass_fds\u001b[0m\u001b[1;33m,\u001b[0m \u001b[0mcwd\u001b[0m\u001b[1;33m,\u001b[0m \u001b[0menv\u001b[0m\u001b[1;33m,\u001b[0m\u001b[1;33m\u001b[0m\u001b[1;33m\u001b[0m\u001b[0m\n",
      "\u001b[1;32m~\\anaconda3\\lib\\subprocess.py\u001b[0m in \u001b[0;36m_execute_child\u001b[1;34m(self, args, executable, preexec_fn, close_fds, pass_fds, cwd, env, startupinfo, creationflags, shell, p2cread, p2cwrite, c2pread, c2pwrite, errread, errwrite, unused_restore_signals, unused_gid, unused_gids, unused_uid, unused_umask, unused_start_new_session)\u001b[0m\n\u001b[0;32m   1419\u001b[0m             \u001b[1;32mtry\u001b[0m\u001b[1;33m:\u001b[0m\u001b[1;33m\u001b[0m\u001b[1;33m\u001b[0m\u001b[0m\n\u001b[1;32m-> 1420\u001b[1;33m                 hp, ht, pid, tid = _winapi.CreateProcess(executable, args,\n\u001b[0m\u001b[0;32m   1421\u001b[0m                                          \u001b[1;31m# no special security\u001b[0m\u001b[1;33m\u001b[0m\u001b[1;33m\u001b[0m\u001b[0m\n",
      "\u001b[1;31mFileNotFoundError\u001b[0m: [WinError 2] The system cannot find the file specified",
      "\nDuring handling of the above exception, another exception occurred:\n",
      "\u001b[1;31mShellError\u001b[0m                                Traceback (most recent call last)",
      "\u001b[1;32m~\\AppData\\Local\\Temp\\ipykernel_26224\\1469698368.py\u001b[0m in \u001b[0;36m<module>\u001b[1;34m\u001b[0m\n\u001b[1;32m----> 1\u001b[1;33m \u001b[0mprint\u001b[0m\u001b[1;33m(\u001b[0m\u001b[0mextract_textract\u001b[0m\u001b[1;33m(\u001b[0m\u001b[0mstr4\u001b[0m\u001b[1;33m)\u001b[0m\u001b[1;33m)\u001b[0m\u001b[1;33m\u001b[0m\u001b[1;33m\u001b[0m\u001b[0m\n\u001b[0m",
      "\u001b[1;32m~\\AppData\\Local\\Temp\\ipykernel_26224\\1947892162.py\u001b[0m in \u001b[0;36mextract_textract\u001b[1;34m(path)\u001b[0m\n\u001b[0;32m      5\u001b[0m     \u001b[1;32mimport\u001b[0m \u001b[0mtextract\u001b[0m\u001b[1;33m\u001b[0m\u001b[1;33m\u001b[0m\u001b[0m\n\u001b[0;32m      6\u001b[0m     \u001b[1;31m#extract text in byte format\u001b[0m\u001b[1;33m\u001b[0m\u001b[1;33m\u001b[0m\u001b[0m\n\u001b[1;32m----> 7\u001b[1;33m     \u001b[0mtextract_text\u001b[0m \u001b[1;33m=\u001b[0m \u001b[0mtextract\u001b[0m\u001b[1;33m.\u001b[0m\u001b[0mprocess\u001b[0m\u001b[1;33m(\u001b[0m\u001b[0mpath\u001b[0m\u001b[1;33m)\u001b[0m\u001b[1;33m\u001b[0m\u001b[1;33m\u001b[0m\u001b[0m\n\u001b[0m\u001b[0;32m      8\u001b[0m     \u001b[1;31m#convert bytes to string\u001b[0m\u001b[1;33m\u001b[0m\u001b[1;33m\u001b[0m\u001b[0m\n\u001b[0;32m      9\u001b[0m     \u001b[0mtextract_str_text\u001b[0m \u001b[1;33m=\u001b[0m \u001b[0mcodecs\u001b[0m\u001b[1;33m.\u001b[0m\u001b[0mdecode\u001b[0m\u001b[1;33m(\u001b[0m\u001b[0mtextract_text\u001b[0m\u001b[1;33m)\u001b[0m\u001b[1;33m\u001b[0m\u001b[1;33m\u001b[0m\u001b[0m\n",
      "\u001b[1;32m~\\anaconda3\\lib\\site-packages\\textract\\parsers\\__init__.py\u001b[0m in \u001b[0;36mprocess\u001b[1;34m(filename, input_encoding, output_encoding, extension, **kwargs)\u001b[0m\n\u001b[0;32m     77\u001b[0m \u001b[1;33m\u001b[0m\u001b[0m\n\u001b[0;32m     78\u001b[0m     \u001b[0mparser\u001b[0m \u001b[1;33m=\u001b[0m \u001b[0mfiletype_module\u001b[0m\u001b[1;33m.\u001b[0m\u001b[0mParser\u001b[0m\u001b[1;33m(\u001b[0m\u001b[1;33m)\u001b[0m\u001b[1;33m\u001b[0m\u001b[1;33m\u001b[0m\u001b[0m\n\u001b[1;32m---> 79\u001b[1;33m     \u001b[1;32mreturn\u001b[0m \u001b[0mparser\u001b[0m\u001b[1;33m.\u001b[0m\u001b[0mprocess\u001b[0m\u001b[1;33m(\u001b[0m\u001b[0mfilename\u001b[0m\u001b[1;33m,\u001b[0m \u001b[0minput_encoding\u001b[0m\u001b[1;33m,\u001b[0m \u001b[0moutput_encoding\u001b[0m\u001b[1;33m,\u001b[0m \u001b[1;33m**\u001b[0m\u001b[0mkwargs\u001b[0m\u001b[1;33m)\u001b[0m\u001b[1;33m\u001b[0m\u001b[1;33m\u001b[0m\u001b[0m\n\u001b[0m\u001b[0;32m     80\u001b[0m \u001b[1;33m\u001b[0m\u001b[0m\n\u001b[0;32m     81\u001b[0m \u001b[1;33m\u001b[0m\u001b[0m\n",
      "\u001b[1;32m~\\anaconda3\\lib\\site-packages\\textract\\parsers\\utils.py\u001b[0m in \u001b[0;36mprocess\u001b[1;34m(self, filename, input_encoding, output_encoding, **kwargs)\u001b[0m\n\u001b[0;32m     44\u001b[0m         \u001b[1;31m# output encoding\u001b[0m\u001b[1;33m\u001b[0m\u001b[1;33m\u001b[0m\u001b[0m\n\u001b[0;32m     45\u001b[0m         \u001b[1;31m# http://nedbatchelder.com/text/unipain/unipain.html#35\u001b[0m\u001b[1;33m\u001b[0m\u001b[1;33m\u001b[0m\u001b[0m\n\u001b[1;32m---> 46\u001b[1;33m         \u001b[0mbyte_string\u001b[0m \u001b[1;33m=\u001b[0m \u001b[0mself\u001b[0m\u001b[1;33m.\u001b[0m\u001b[0mextract\u001b[0m\u001b[1;33m(\u001b[0m\u001b[0mfilename\u001b[0m\u001b[1;33m,\u001b[0m \u001b[1;33m**\u001b[0m\u001b[0mkwargs\u001b[0m\u001b[1;33m)\u001b[0m\u001b[1;33m\u001b[0m\u001b[1;33m\u001b[0m\u001b[0m\n\u001b[0m\u001b[0;32m     47\u001b[0m         \u001b[0municode_string\u001b[0m \u001b[1;33m=\u001b[0m \u001b[0mself\u001b[0m\u001b[1;33m.\u001b[0m\u001b[0mdecode\u001b[0m\u001b[1;33m(\u001b[0m\u001b[0mbyte_string\u001b[0m\u001b[1;33m,\u001b[0m \u001b[0minput_encoding\u001b[0m\u001b[1;33m)\u001b[0m\u001b[1;33m\u001b[0m\u001b[1;33m\u001b[0m\u001b[0m\n\u001b[0;32m     48\u001b[0m         \u001b[1;32mreturn\u001b[0m \u001b[0mself\u001b[0m\u001b[1;33m.\u001b[0m\u001b[0mencode\u001b[0m\u001b[1;33m(\u001b[0m\u001b[0municode_string\u001b[0m\u001b[1;33m,\u001b[0m \u001b[0moutput_encoding\u001b[0m\u001b[1;33m)\u001b[0m\u001b[1;33m\u001b[0m\u001b[1;33m\u001b[0m\u001b[0m\n",
      "\u001b[1;32m~\\anaconda3\\lib\\site-packages\\textract\\parsers\\pdf_parser.py\u001b[0m in \u001b[0;36mextract\u001b[1;34m(self, filename, method, **kwargs)\u001b[0m\n\u001b[0;32m     27\u001b[0m                     \u001b[1;32mreturn\u001b[0m \u001b[0mself\u001b[0m\u001b[1;33m.\u001b[0m\u001b[0mextract_pdfminer\u001b[0m\u001b[1;33m(\u001b[0m\u001b[0mfilename\u001b[0m\u001b[1;33m,\u001b[0m \u001b[1;33m**\u001b[0m\u001b[0mkwargs\u001b[0m\u001b[1;33m)\u001b[0m\u001b[1;33m\u001b[0m\u001b[1;33m\u001b[0m\u001b[0m\n\u001b[0;32m     28\u001b[0m                 \u001b[1;32melse\u001b[0m\u001b[1;33m:\u001b[0m\u001b[1;33m\u001b[0m\u001b[1;33m\u001b[0m\u001b[0m\n\u001b[1;32m---> 29\u001b[1;33m                     \u001b[1;32mraise\u001b[0m \u001b[0mex\u001b[0m\u001b[1;33m\u001b[0m\u001b[1;33m\u001b[0m\u001b[0m\n\u001b[0m\u001b[0;32m     30\u001b[0m \u001b[1;33m\u001b[0m\u001b[0m\n\u001b[0;32m     31\u001b[0m         \u001b[1;32melif\u001b[0m \u001b[0mmethod\u001b[0m \u001b[1;33m==\u001b[0m \u001b[1;34m'pdfminer'\u001b[0m\u001b[1;33m:\u001b[0m\u001b[1;33m\u001b[0m\u001b[1;33m\u001b[0m\u001b[0m\n",
      "\u001b[1;32m~\\anaconda3\\lib\\site-packages\\textract\\parsers\\pdf_parser.py\u001b[0m in \u001b[0;36mextract\u001b[1;34m(self, filename, method, **kwargs)\u001b[0m\n\u001b[0;32m     19\u001b[0m         \u001b[1;32mif\u001b[0m \u001b[0mmethod\u001b[0m \u001b[1;33m==\u001b[0m \u001b[1;34m''\u001b[0m \u001b[1;32mor\u001b[0m \u001b[0mmethod\u001b[0m \u001b[1;33m==\u001b[0m \u001b[1;34m'pdftotext'\u001b[0m\u001b[1;33m:\u001b[0m\u001b[1;33m\u001b[0m\u001b[1;33m\u001b[0m\u001b[0m\n\u001b[0;32m     20\u001b[0m             \u001b[1;32mtry\u001b[0m\u001b[1;33m:\u001b[0m\u001b[1;33m\u001b[0m\u001b[1;33m\u001b[0m\u001b[0m\n\u001b[1;32m---> 21\u001b[1;33m                 \u001b[1;32mreturn\u001b[0m \u001b[0mself\u001b[0m\u001b[1;33m.\u001b[0m\u001b[0mextract_pdftotext\u001b[0m\u001b[1;33m(\u001b[0m\u001b[0mfilename\u001b[0m\u001b[1;33m,\u001b[0m \u001b[1;33m**\u001b[0m\u001b[0mkwargs\u001b[0m\u001b[1;33m)\u001b[0m\u001b[1;33m\u001b[0m\u001b[1;33m\u001b[0m\u001b[0m\n\u001b[0m\u001b[0;32m     22\u001b[0m             \u001b[1;32mexcept\u001b[0m \u001b[0mShellError\u001b[0m \u001b[1;32mas\u001b[0m \u001b[0mex\u001b[0m\u001b[1;33m:\u001b[0m\u001b[1;33m\u001b[0m\u001b[1;33m\u001b[0m\u001b[0m\n\u001b[0;32m     23\u001b[0m                 \u001b[1;31m# If pdftotext isn't installed and the pdftotext method\u001b[0m\u001b[1;33m\u001b[0m\u001b[1;33m\u001b[0m\u001b[0m\n",
      "\u001b[1;32m~\\anaconda3\\lib\\site-packages\\textract\\parsers\\pdf_parser.py\u001b[0m in \u001b[0;36mextract_pdftotext\u001b[1;34m(self, filename, **kwargs)\u001b[0m\n\u001b[0;32m     42\u001b[0m         \u001b[1;32melse\u001b[0m\u001b[1;33m:\u001b[0m\u001b[1;33m\u001b[0m\u001b[1;33m\u001b[0m\u001b[0m\n\u001b[0;32m     43\u001b[0m             \u001b[0margs\u001b[0m \u001b[1;33m=\u001b[0m \u001b[1;33m[\u001b[0m\u001b[1;34m'pdftotext'\u001b[0m\u001b[1;33m,\u001b[0m \u001b[0mfilename\u001b[0m\u001b[1;33m,\u001b[0m \u001b[1;34m'-'\u001b[0m\u001b[1;33m]\u001b[0m\u001b[1;33m\u001b[0m\u001b[1;33m\u001b[0m\u001b[0m\n\u001b[1;32m---> 44\u001b[1;33m         \u001b[0mstdout\u001b[0m\u001b[1;33m,\u001b[0m \u001b[0m_\u001b[0m \u001b[1;33m=\u001b[0m \u001b[0mself\u001b[0m\u001b[1;33m.\u001b[0m\u001b[0mrun\u001b[0m\u001b[1;33m(\u001b[0m\u001b[0margs\u001b[0m\u001b[1;33m)\u001b[0m\u001b[1;33m\u001b[0m\u001b[1;33m\u001b[0m\u001b[0m\n\u001b[0m\u001b[0;32m     45\u001b[0m         \u001b[1;32mreturn\u001b[0m \u001b[0mstdout\u001b[0m\u001b[1;33m\u001b[0m\u001b[1;33m\u001b[0m\u001b[0m\n\u001b[0;32m     46\u001b[0m \u001b[1;33m\u001b[0m\u001b[0m\n",
      "\u001b[1;32m~\\anaconda3\\lib\\site-packages\\textract\\parsers\\utils.py\u001b[0m in \u001b[0;36mrun\u001b[1;34m(self, args)\u001b[0m\n\u001b[0;32m     93\u001b[0m                 \u001b[1;31m# File not found.\u001b[0m\u001b[1;33m\u001b[0m\u001b[1;33m\u001b[0m\u001b[0m\n\u001b[0;32m     94\u001b[0m                 \u001b[1;31m# This is equivalent to getting exitcode 127 from sh\u001b[0m\u001b[1;33m\u001b[0m\u001b[1;33m\u001b[0m\u001b[0m\n\u001b[1;32m---> 95\u001b[1;33m                 raise exceptions.ShellError(\n\u001b[0m\u001b[0;32m     96\u001b[0m                     \u001b[1;34m' '\u001b[0m\u001b[1;33m.\u001b[0m\u001b[0mjoin\u001b[0m\u001b[1;33m(\u001b[0m\u001b[0margs\u001b[0m\u001b[1;33m)\u001b[0m\u001b[1;33m,\u001b[0m \u001b[1;36m127\u001b[0m\u001b[1;33m,\u001b[0m \u001b[1;34m''\u001b[0m\u001b[1;33m,\u001b[0m \u001b[1;34m''\u001b[0m\u001b[1;33m,\u001b[0m\u001b[1;33m\u001b[0m\u001b[1;33m\u001b[0m\u001b[0m\n\u001b[0;32m     97\u001b[0m                 )\n",
      "\u001b[1;31mShellError\u001b[0m: The command `pdftotext ./Aadhar_new.pdf -` failed with exit code 127\n------------- stdout -------------\n------------- stderr -------------\n"
     ]
    }
   ],
   "source": [
    "print(extract_textract(str4))"
   ]
  },
  {
   "cell_type": "code",
   "execution_count": 48,
   "id": "868b7f2f",
   "metadata": {},
   "outputs": [
    {
     "name": "stdout",
     "output_type": "stream",
     "text": [
      "O38  Bsr B \n",
      "\n",
      "Government  of  India \n",
      "\n",
      "e03eab  Ada  thd  @9,RE0 \n",
      "\n",
      "ntification  Authority  of  India \n",
      "Zoe  Envlment  No.  0604655036560 \n",
      "\n",
      "Uni \n",
      "tocar \n",
      "To \n",
      "mts \n",
      "Masnk \n",
      "50  Pundarka \n",
      "29201  ARPITHA  NILAYA \n",
      "VIDYA  NAGARA \n",
      "SLA \n",
      "oat \n",
      "supa \n",
      "Sula \n",
      "Dakin  Kanade  Kamataka - 574230 \n",
      "sarostize \n",
      "\n",
      "AADHAAR \n",
      "\n",
      "abd \n",
      "\n",
      "=  act  3  Boaddabe  dah  POE \n",
      "1  R04  dq  dors a  XML  e800 \n",
      "vA  rocks  30308 \n",
      "\n",
      "=  oxen,  hob  ceed  cofyead  dyad  ome) \n",
      "\n",
      "wong \n",
      "\n",
      "INFORMATION \n",
      "\n",
      "=  Aadhaar  is  a  proof  of  identity,  not  of  citizenship. \n",
      "=  Verify  identity  using  Secure  QR  Code  Offine  XML  Oniine \n",
      "\n",
      "Authentication. \n",
      "=  This  is  electronically  generated  letter. \n",
      "\n",
      "ocr  dedacgod  gga  408 \n",
      "neni  Soard  mars  Aerts  AVY \n",
      "\n",
      "Salen  530  Bamcbiion, \n",
      "\n",
      "eter) \n",
      "\n",
      "da,  dees  os  5h  @-2beet  m8  0)  650  9 \n",
      "gor  3a,  as  Beret  9  dsodsyd- \n",
      "\n",
      "hada  038  8 \n",
      "\n",
      "dab,  ewer  oat,  /  Your  Aadhaar  No. \n",
      "\n",
      "3717  4757  7814 \n",
      "VID:  9173  6098  0617  3805 \n",
      "I,  sect.  I,  rob \n",
      "\n",
      "= \n",
      "\n",
      "=  Aadhaar  is  valid  throughout  the  county. \n",
      "=  Aadhaar  helps  you  aval  various  Goverment \n",
      "\n",
      "and  non-Government  services  easily. \n",
      "Keep  your  mobile  number  &  email  ID  updated \n",
      "in  Aadhaar. \n",
      "Carry  Aadhaar  in  your  smart  phone  -  use \n",
      "mAadhaar  App. \n",
      "\n",
      "a pry \n",
      "rea  —— \n",
      "Euaie \n",
      "\n",
      "2 \n",
      "‘UniauEldecatoAThoty  of  nia \n",
      "290m wg oy \n",
      "03 maoty as \n",
      "pry \n",
      "fe  22 \n",
      "Address: \n",
      "6  Baka,  2.0001  ARITA  NILAVA, \n",
      "VIDYA  NAGARA,  OLD  GATE.  SULLIA, \n",
      "Siva  Daksa  macs. \n",
      "Reais  “sass \n",
      "\n",
      "¥ \n",
      "i \n",
      "i \n",
      "H \n",
      "H \n",
      "\n",
      "3717  4757  7814 \n",
      "VID  :  9173  6099  0617  3605 \n",
      "S3,_coeor,  S59,  roched \n",
      "\n",
      "3717  4757  7814 \n",
      "VID :  9173  6099  0617  3605 \n",
      "\n",
      "\f",
      "\n"
     ]
    }
   ],
   "source": [
    "print(extract_long())"
   ]
  },
  {
   "cell_type": "code",
   "execution_count": 52,
   "id": "fa219801",
   "metadata": {},
   "outputs": [],
   "source": [
    "f=open('output.txt','w')"
   ]
  },
  {
   "cell_type": "code",
   "execution_count": 53,
   "id": "f1fc6f8b",
   "metadata": {},
   "outputs": [
    {
     "data": {
      "text/plain": [
       "1569"
      ]
     },
     "execution_count": 53,
     "metadata": {},
     "output_type": "execute_result"
    }
   ],
   "source": [
    "f.write(extract_long(str4))"
   ]
  },
  {
   "cell_type": "code",
   "execution_count": 71,
   "id": "ab4b8090",
   "metadata": {},
   "outputs": [],
   "source": [
    "f1=open('output1.txt','w')\n"
   ]
  },
  {
   "cell_type": "code",
   "execution_count": 72,
   "id": "b963e8fc",
   "metadata": {},
   "outputs": [
    {
     "data": {
      "text/plain": [
       "1338"
      ]
     },
     "execution_count": 72,
     "metadata": {},
     "output_type": "execute_result"
    }
   ],
   "source": [
    "f1.write(extract_pypdf2(str4))"
   ]
  },
  {
   "cell_type": "code",
   "execution_count": null,
   "id": "45691194",
   "metadata": {},
   "outputs": [],
   "source": []
  }
 ],
 "metadata": {
  "kernelspec": {
   "display_name": "Python 3 (ipykernel)",
   "language": "python",
   "name": "python3"
  },
  "language_info": {
   "codemirror_mode": {
    "name": "ipython",
    "version": 3
   },
   "file_extension": ".py",
   "mimetype": "text/x-python",
   "name": "python",
   "nbconvert_exporter": "python",
   "pygments_lexer": "ipython3",
   "version": "3.9.13"
  }
 },
 "nbformat": 4,
 "nbformat_minor": 5
}
