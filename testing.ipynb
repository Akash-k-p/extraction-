{
 "cells": [
  {
   "cell_type": "code",
   "execution_count": 34,
   "id": "c3c18bfb",
   "metadata": {},
   "outputs": [],
   "source": [
    "import pytesseract\n",
    "import cv2"
   ]
  },
  {
   "cell_type": "code",
   "execution_count": 35,
   "id": "0a2f8a80",
   "metadata": {},
   "outputs": [],
   "source": [
    "# print(pytesseract.image_to_string(cv2.imread('cardF.jpg'),lang='kan+eng'))"
   ]
  },
  {
   "cell_type": "code",
   "execution_count": 40,
   "id": "b82a5162",
   "metadata": {},
   "outputs": [],
   "source": [
    "image = cv2.imread(\"cardF.JPG\")\n",
    "base_image = image.copy()"
   ]
  },
  {
   "cell_type": "code",
   "execution_count": 41,
   "id": "f68ab561",
   "metadata": {},
   "outputs": [
    {
     "data": {
      "text/plain": [
       "True"
      ]
     },
     "execution_count": 41,
     "metadata": {},
     "output_type": "execute_result"
    }
   ],
   "source": [
    "gray = cv2.cvtColor(image, cv2.COLOR_BGR2GRAY)\n",
    "cv2.imwrite(\"temp/backGrayed.png\", gray)"
   ]
  },
  {
   "cell_type": "code",
   "execution_count": 59,
   "id": "3d6e7372",
   "metadata": {},
   "outputs": [
    {
     "data": {
      "text/plain": [
       "True"
      ]
     },
     "execution_count": 59,
     "metadata": {},
     "output_type": "execute_result"
    }
   ],
   "source": [
    "blur = cv2.GaussianBlur(gray,(7,7),0)\n",
    "cv2.imwrite(\"temp/index_blur.png\", blur)"
   ]
  },
  {
   "cell_type": "code",
   "execution_count": 43,
   "id": "29e89912",
   "metadata": {},
   "outputs": [
    {
     "data": {
      "text/plain": [
       "True"
      ]
     },
     "execution_count": 43,
     "metadata": {},
     "output_type": "execute_result"
    }
   ],
   "source": [
    "thresh = cv2.threshold(blur, 0, 255, cv2.THRESH_BINARY_INV + cv2.THRESH_OTSU)[1]\n",
    "cv2.imwrite(\"temp/index_thresh.png\", thresh)"
   ]
  },
  {
   "cell_type": "code",
   "execution_count": 44,
   "id": "68d96502",
   "metadata": {},
   "outputs": [
    {
     "data": {
      "text/plain": [
       "True"
      ]
     },
     "execution_count": 44,
     "metadata": {},
     "output_type": "execute_result"
    }
   ],
   "source": [
    "kernal = cv2.getStructuringElement(cv2.MORPH_RECT, (3, 13))\n",
    "cv2.imwrite(\"temp/index_kernal.png\", kernal)"
   ]
  },
  {
   "cell_type": "code",
   "execution_count": 132,
   "id": "7f0df00c",
   "metadata": {},
   "outputs": [
    {
     "data": {
      "text/plain": [
       "True"
      ]
     },
     "execution_count": 132,
     "metadata": {},
     "output_type": "execute_result"
    }
   ],
   "source": [
    "dilate = cv2.dilate(thresh, kernal, iterations=18)\n",
    "cv2.imwrite(\"temp/index_dilate.png\", dilate)"
   ]
  },
  {
   "cell_type": "code",
   "execution_count": 133,
   "id": "f353aba8",
   "metadata": {},
   "outputs": [
    {
     "name": "stdout",
     "output_type": "stream",
     "text": [
      "8\n"
     ]
    }
   ],
   "source": [
    "cnts = cv2.findContours(dilate, cv2.RETR_EXTERNAL, cv2.CHAIN_APPROX_SIMPLE)\n",
    "cnts = cnts[0] if len(cnts) == 2 else cents[1]\n",
    "cnts = sorted(cnts, key=lambda x: cv2.boundingRect(x)[0])\n",
    "print(len(cnts))"
   ]
  },
  {
   "cell_type": "code",
   "execution_count": 134,
   "id": "77a66b3c",
   "metadata": {},
   "outputs": [
    {
     "data": {
      "text/plain": [
       "True"
      ]
     },
     "execution_count": 134,
     "metadata": {},
     "output_type": "execute_result"
    }
   ],
   "source": [
    "image=base_image.copy()\n",
    "cv2.imwrite(\"temp/testing.png\", image)    "
   ]
  },
  {
   "cell_type": "code",
   "execution_count": 135,
   "id": "01a15bc6",
   "metadata": {},
   "outputs": [
    {
     "data": {
      "text/plain": [
       "True"
      ]
     },
     "execution_count": 135,
     "metadata": {},
     "output_type": "execute_result"
    }
   ],
   "source": [
    "results  = []\n",
    "for c in cnts:\n",
    "    x, y, w, h = cv2.boundingRect(c)\n",
    "    if h > 20 and w >100:\n",
    "#         roi = image[y:y+h, x:x+h]\n",
    "        cv2.rectangle(image, (x, y), (x+w, y+h), (36, 255, 12), 10)\n",
    "cv2.imwrite(\"temp/index_bbox_new.png\", image)        "
   ]
  },
  {
   "cell_type": "code",
   "execution_count": null,
   "id": "fa95811c",
   "metadata": {},
   "outputs": [],
   "source": []
  },
  {
   "cell_type": "code",
   "execution_count": null,
   "id": "873ac4d7",
   "metadata": {},
   "outputs": [],
   "source": []
  }
 ],
 "metadata": {
  "kernelspec": {
   "display_name": "Python 3 (ipykernel)",
   "language": "python",
   "name": "python3"
  },
  "language_info": {
   "codemirror_mode": {
    "name": "ipython",
    "version": 3
   },
   "file_extension": ".py",
   "mimetype": "text/x-python",
   "name": "python",
   "nbconvert_exporter": "python",
   "pygments_lexer": "ipython3",
   "version": "3.9.13"
  }
 },
 "nbformat": 4,
 "nbformat_minor": 5
}
