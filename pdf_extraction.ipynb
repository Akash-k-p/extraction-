{
 "cells": [
  {
   "cell_type": "code",
   "execution_count": 12,
   "id": "8db799eb",
   "metadata": {},
   "outputs": [],
   "source": [
    "import re"
   ]
  },
  {
   "cell_type": "code",
   "execution_count": 13,
   "id": "742885f3",
   "metadata": {},
   "outputs": [],
   "source": [
    "def extract_pymupdf(path):\n",
    "    \n",
    "    #Usinf pymupdf\n",
    "    import fitz  # this is pymupdf\n",
    "    #extract text page by page\n",
    "    with fitz.open(path) as doc:\n",
    "        pymupdf_text = \"\"\n",
    "        if(doc.is_encrypted):\n",
    "                passw=input(\"Enter the password\")\n",
    "                doc.authenticate(password=passw)\n",
    "        for page in doc:\n",
    "            pymupdf_text += page.get_text(\"Text\")\n",
    "        return pymupdf_text    "
   ]
  },
  {
   "cell_type": "code",
   "execution_count": 14,
   "id": "5cb4f5e0",
   "metadata": {},
   "outputs": [],
   "source": [
    "    def get_details(txt):\n",
    "        pattern=re.compile(r'Enrolment No\\.: (?P<enrolment_no>[^\\n]*)\\nTo\\n[^\\n]*\\n(?P<name>[^\\n]*)\\n[S,W,D]\\/O: (?P<fathers_name>[^\\n]*)\\n(?P<address>.*)(?P<phonenumber>\\d{10})\\n(?P<aadhaar_number>^\\d{4} \\d{4} \\d{4}\\n).*(?P<vid>\\d{4} \\d{4} \\d{4} \\d{4})\\n.*DOB: (?P<dob>[^\\n]*)\\n.*(?P<gender>MALE|FEMALE|Female|Male)',re.M|re.A|re.S)\n",
    "       #gets all info in one match(enrolment to V) which can then be parsed by the groups\n",
    "        return  pattern.search(txt)    \n",
    "    def get_enrolment_no(txt):\n",
    "        return get_details(txt).group('enrolment_no')\n",
    "    def get_name(txt):\n",
    "        return get_details(txt).group('name')\n",
    "    def get_fathers_name(txt):\n",
    "        return get_details(txt).group('fathers_name')\n",
    "    def get_address(txt):\n",
    "        return get_details(txt).group('address')\n",
    "    def get_phonenumber(txt):\n",
    "        return get_details(txt).group('phonenumber')\n",
    "    def get_aadhaarnumber(txt):\n",
    "        return get_details(txt).group('aadhaar_number')\n",
    "    def get_vid(txt):\n",
    "        return get_details(txt).group('vid')\n",
    "    def get_gender(txt):\n",
    "        return get_details(txt).group('gender')\n",
    "    def get_dob(txt):\n",
    "        return get_details(txt).group('dob')"
   ]
  },
  {
   "cell_type": "code",
   "execution_count": 15,
   "id": "a98bb093",
   "metadata": {},
   "outputs": [],
   "source": [
    "def get_details_pdf(path):\n",
    "    txt=extract_pymupdf(path)\n",
    "    dict={'VID':get_vid(txt),\n",
    "          'Enrolment no':get_enrolment_no(txt),\n",
    "          'Name':get_name(txt),\n",
    "      'Fathers name':get_fathers_name(txt),'Address':get_address(txt),'Phonenumber':get_phonenumber(txt),'Aadhaar number':get_aadhaarnumber(txt),'Gender':get_gender(txt),'DOB':get_dob(txt)}\n",
    "    return dict"
   ]
  },
  {
   "cell_type": "code",
   "execution_count": null,
   "id": "60dcdf31",
   "metadata": {},
   "outputs": [],
   "source": []
  }
 ],
 "metadata": {
  "kernelspec": {
   "display_name": "Python 3 (ipykernel)",
   "language": "python",
   "name": "python3"
  },
  "language_info": {
   "codemirror_mode": {
    "name": "ipython",
    "version": 3
   },
   "file_extension": ".py",
   "mimetype": "text/x-python",
   "name": "python",
   "nbconvert_exporter": "python",
   "pygments_lexer": "ipython3",
   "version": "3.9.13"
  }
 },
 "nbformat": 4,
 "nbformat_minor": 5
}
