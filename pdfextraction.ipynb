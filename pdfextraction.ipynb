{
 "cells": [
  {
   "cell_type": "code",
   "execution_count": 10,
   "id": "372919d2",
   "metadata": {},
   "outputs": [],
   "source": [
    "import re\n",
    "import json\n"
   ]
  },
  {
   "cell_type": "code",
   "execution_count": 11,
   "id": "2bfec4d5",
   "metadata": {},
   "outputs": [],
   "source": [
    "def extract_pdfminer1(str):\n",
    "\n",
    "    from pdfminer.high_level import extract_text\n",
    "\n",
    "    text = extract_text(str)\n",
    "    return text"
   ]
  },
  {
   "cell_type": "code",
   "execution_count": 12,
   "id": "5e56b8d9",
   "metadata": {},
   "outputs": [],
   "source": [
    "def extract_pdfminer2(str):\n",
    "    from io import StringIO\n",
    "\n",
    "    from pdfminer.converter import TextConverter\n",
    "    from pdfminer.layout import LAParams\n",
    "    from pdfminer.pdfdocument import PDFDocument\n",
    "    from pdfminer.pdfinterp import PDFResourceManager, PDFPageInterpreter\n",
    "    from pdfminer.pdfpage import PDFPage\n",
    "    from pdfminer.pdfparser import PDFParser\n",
    "\n",
    "    output_string = StringIO()\n",
    "    with open(str, 'rb') as in_file:\n",
    "        parser = PDFParser(in_file)\n",
    "        doc = PDFDocument(parser,password=\"AKAS2003\")\n",
    "        rsrcmgr = PDFResourceManager()\n",
    "        device = TextConverter(rsrcmgr, output_string, laparams=LAParams())\n",
    "        interpreter = PDFPageInterpreter(rsrcmgr, device)\n",
    "        for page in PDFPage.create_pages(doc):\n",
    "            interpreter.process_page(page)\n",
    "\n",
    "    return output_string.getvalue()\n",
    "    "
   ]
  },
  {
   "cell_type": "code",
   "execution_count": 13,
   "id": "6209dd4b",
   "metadata": {},
   "outputs": [],
   "source": [
    "def extract_pypdf2(path):\n",
    "    from PyPDF2 import  PdfReader\n",
    "    from io import StringIO\n",
    "    \n",
    "    a=PdfReader(path)\n",
    "    if a.is_encrypted:\n",
    "        #passw=input(\"Enter the password\")\n",
    "        a.decrypt('AKAS2003')\n",
    "    text=\"\"\n",
    "    for pageno in range(len(a.pages)):\n",
    "        text=text+a.pages[pageno].extract_text()\n",
    "    return text   \n",
    "        "
   ]
  },
  {
   "cell_type": "code",
   "execution_count": 14,
   "id": "7cad41fe",
   "metadata": {},
   "outputs": [],
   "source": [
    "def extract_pymupdf(path):\n",
    "    \n",
    "    #Usinf pymupdf\n",
    "    import fitz  # this is pymupdf\n",
    "    #extract text page by page\n",
    "    with fitz.open(path) as doc:\n",
    "        pymupdf_text = \"\"\n",
    "        if(doc.is_encrypted):\n",
    "                passw=input(\"Enter the password\")\n",
    "                doc.authenticate(password=passw)\n",
    "        for page in doc:\n",
    "            pymupdf_text += page.get_text(\"Text\")\n",
    "        return pymupdf_text    "
   ]
  },
  {
   "cell_type": "code",
   "execution_count": 15,
   "id": "cec59898",
   "metadata": {},
   "outputs": [],
   "source": [
    "class Aadhaar:\n",
    "    def __init__(self,path):\n",
    "        self.txt=extract_pymupdf(path)\n",
    "    def get_details(self):\n",
    "        pattern=re.compile(r'Enrolment No\\.: (?P<enrolment_no>[^\\n]*)\\nTo\\n[^\\n]*\\n(?P<name>[^\\n]*)\\n[S,W]\\/O: (?P<fathers_name>[^\\n]*)\\n(?P<address>.*)(?P<phonenumber>\\d{10})\\n(?P<aadhaar_number>^\\d{4} \\d{4} \\d{4}\\n).*(?P<vid>\\d{4} \\d{4} \\d{4} \\d{4})\\n.*DOB: (?P<dob>[^\\n]*)\\n.*(?P<gender>MALE|FEMALE|Female|Male)',re.M|re.A|re.S)\n",
    "       #gets all info in one match(enrolment to V) which can then be parsed by the groups\n",
    "        return  pattern.search(self.txt)    \n",
    "    def get_enrolment_no(self):\n",
    "        return self.get_details().group('enrolment_no')\n",
    "    def get_name(self):\n",
    "        return self.get_details().group('name')\n",
    "    def get_fathers_name(self):\n",
    "        return self.get_details().group('fathers_name')\n",
    "    def get_address(self):\n",
    "        return self.get_details().group('address')\n",
    "    def get_phonenumber(self):\n",
    "        return self.get_details().group('phonenumber')\n",
    "    def get_aadhaarnumber(self):\n",
    "        return self.get_details().group('aadhaar_number')\n",
    "    def get_vid(self):\n",
    "        return self.get_details().group('vid')\n",
    "    def get_gender(self):\n",
    "        return self.get_details().group('gender')\n",
    "    def get_dob(self):\n",
    "        return self.get_dob().group('dob')\n",
    "    def to_json(self,path):\n",
    "        dict={'VID':self.get_vid(),'Enrolment no':self.get_enrolment_no(),'Name':self.get_name(),\n",
    "      'Fathers name':self.get_fathers_name(),'Address':self.get_address(),'Phonenumber':self.get_phonenumber(),'Aadhaar number':self.get_aadhaarnumber(),'Gender':self.get_gender(),'DOB':self.get_dob()}\n",
    "        with open(path,'w') as f:\n",
    "            json.dump(dict,f,indent=2)\n",
    "        \n",
    "    \n",
    "        "
   ]
  },
  {
   "cell_type": "code",
   "execution_count": 16,
   "id": "cb231d2c",
   "metadata": {},
   "outputs": [],
   "source": [
    "str='EAadhaar_og.pdf'"
   ]
  },
  {
   "cell_type": "code",
   "execution_count": 17,
   "id": "83229b8a",
   "metadata": {},
   "outputs": [
    {
     "name": "stdout",
     "output_type": "stream",
     "text": [
      "Enter the passwordAKAS2003\n"
     ]
    }
   ],
   "source": [
    "aad=Aadhaar(str)"
   ]
  },
  {
   "cell_type": "code",
   "execution_count": null,
   "id": "352adce0",
   "metadata": {},
   "outputs": [],
   "source": [
    "aad.to_json('newjson.json')"
   ]
  },
  {
   "cell_type": "code",
   "execution_count": null,
   "id": "64077884",
   "metadata": {},
   "outputs": [],
   "source": []
  }
 ],
 "metadata": {
  "kernelspec": {
   "display_name": "Python 3 (ipykernel)",
   "language": "python",
   "name": "python3"
  },
  "language_info": {
   "codemirror_mode": {
    "name": "ipython",
    "version": 3
   },
   "file_extension": ".py",
   "mimetype": "text/x-python",
   "name": "python",
   "nbconvert_exporter": "python",
   "pygments_lexer": "ipython3",
   "version": "3.9.13"
  }
 },
 "nbformat": 4,
 "nbformat_minor": 5
}
