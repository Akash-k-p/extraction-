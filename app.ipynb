{
 "cells": [
  {
   "cell_type": "code",
   "execution_count": 25,
   "id": "44696092",
   "metadata": {},
   "outputs": [],
   "source": [
    "import json\n",
    "import re"
   ]
  },
  {
   "cell_type": "code",
   "execution_count": 71,
   "id": "eef74f6f",
   "metadata": {},
   "outputs": [],
   "source": [
    "%run pdf_extraction.ipynb \n",
    "%run img_extraction.ipynb  #importing other ipynb"
   ]
  },
  {
   "cell_type": "code",
   "execution_count": 72,
   "id": "51202ba7",
   "metadata": {},
   "outputs": [],
   "source": [
    "fileName=\"EAadhaar_og.pdf\""
   ]
  },
  {
   "cell_type": "code",
   "execution_count": 73,
   "id": "284ebea1",
   "metadata": {},
   "outputs": [],
   "source": [
    "fileNameB='samples\\cardB.jpg'                                             #backside of the aadhar card (address side)\n",
    "fileNameF='samples\\small_f.jpg'  \n",
    "#front side of the aadhaar card(name side)"
   ]
  },
  {
   "cell_type": "code",
   "execution_count": 67,
   "id": "dfeb3ec3",
   "metadata": {},
   "outputs": [],
   "source": [
    "file1='dataset\\s1.jpg'"
   ]
  },
  {
   "cell_type": "code",
   "execution_count": 68,
   "id": "dfebed62",
   "metadata": {},
   "outputs": [],
   "source": [
    "def file_type(filePath):\n",
    "    if re.match(\".*\\.pdf$\",filePath,re.M|re.I):\n",
    "        return 'pdf'\n",
    "    else:\n",
    "        return 'img'"
   ]
  },
  {
   "cell_type": "code",
   "execution_count": 69,
   "id": "4fcafc2e",
   "metadata": {},
   "outputs": [],
   "source": [
    "def to_json(filePath1,filePath2=0):\n",
    "    fileType=file_type(filePath1)\n",
    "    if(fileType)=='pdf':\n",
    "        dict=get_details_pdf(fileName)\n",
    "    elif(fileType)=='img':\n",
    "        dict=get_details_img(filePath1,filePath2)\n",
    "    try:                                            \n",
    "        f=open('jsonbrandnew.json','r+')\n",
    "    except FileNotFoundError:                      #for the first time\n",
    "        f=open('jsonbrandnew.json','w+')\n",
    "    try:\n",
    "            maindict=json.load(f)                     \n",
    "    except ValueError:                             #for the first time\n",
    "            print(\"value error\")\n",
    "            maindict={}\n",
    "            \n",
    "    if dict['Aadhaar Number'] in maindict.keys():\n",
    "        choice=input(\"This aadhar number is already present in the database:\\n Do you want to update the the data for this aadhaar number (y\\n)?\")\n",
    "        if choice.lower()=='n':\n",
    "            f.close()\n",
    "            return\n",
    "    \n",
    "    \n",
    "    maindict[dict['Aadhaar Number']]=dict\n",
    "    f.seek(0)\n",
    "    json.dump(maindict,f,indent=2)\n",
    "    f.close()        \n",
    "        \n",
    "        \n",
    "        \n"
   ]
  },
  {
   "cell_type": "code",
   "execution_count": 74,
   "id": "16dbb75f",
   "metadata": {},
   "outputs": [
    {
     "name": "stdout",
     "output_type": "stream",
     "text": [
      "180\n",
      "270\n"
     ]
    },
    {
     "name": "stderr",
     "output_type": "stream",
     "text": [
      "C:\\Users\\91886\\AppData\\Local\\Temp\\ipykernel_9952\\3721787371.py:16: DeprecationWarning: NEAREST is deprecated and will be removed in Pillow 10 (2023-07-01). Use Resampling.NEAREST or Dither.NONE instead.\n",
      "  im = im.rotate(angle_back,Image.NEAREST, expand = 1)\n"
     ]
    },
    {
     "name": "stdout",
     "output_type": "stream",
     "text": [
      "4\n",
      "?\n",
      "\n",
      "UniGUENAENtification Authority of india =>)\n",
      "\n",
      "= AADHAAR\n",
      "\n",
      "ವಿಳಾಸ: 30८3 / ತಾಯಿಯ ಹೆಸರು: GOB, 2-\n",
      "9/201 ಅರ್ಪಿತ ನಿಲಯ, ವಿದ್ಯಾ ನಗರ, ಹಳೆಗೇಟು,\n",
      "ಸುಳ, ಸುಳ್ಯ, ದಕ್ಷಿಣ ಕನ್ನಡ, ಕರ್ನಾಟಕ, 574239\n",
      "\n",
      "24/02/2022\n",
      "\n",
      "5 Address: S/O: Pundarika, 2-9/201\n",
      "ARPITHA NILAYA, VIDYA NAGARA, OLD\n",
      "\n",
      ": GATE, SULLIA, Sulya, Dakshina Kannada.\n",
      "Karnataka, 574239 ಕ್ಕ |\n",
      "\n",
      "\n",
      " Pundarika\n",
      "value error\n"
     ]
    }
   ],
   "source": [
    "to_json(file1,fileNameB)"
   ]
  },
  {
   "cell_type": "code",
   "execution_count": 49,
   "id": "78ea7ab5",
   "metadata": {},
   "outputs": [
    {
     "name": "stdout",
     "output_type": "stream",
     "text": [
      "‘Unique Identification Authority of India\n",
      "\n",
      "wwh\n",
      "\n",
      "JON: 3OCS / FANIOW BA: BOBO’, 2-\n",
      "9/201 OAFS JOO, Noe, BiG, we ried,\n",
      "ADY,, ADY;, Ot ta 6W,B, ber és, 574239\n",
      "\n",
      "24/02/2022\n",
      "\n",
      ")\n",
      "\n",
      "s Address: S/O: Pundarika, 2-9/201\n",
      "ARPITHA NILAYA, VIDYA NAGARA, OLD\n",
      "\n",
      "& GATE, SULLIA, Sulya, Dakshina Kannada,\n",
      "Karnataka, 574239\n",
      "\n",
      "3717 4757 7814\n",
      "\n",
      "U® 1947 [XZ] help@uidai.gov.in 3) www.uidai.gov.in\n",
      "\n",
      "at\n",
      "“ee\n",
      "\n"
     ]
    }
   ],
   "source": [
    "print(pytesseract.image_to_string(fileNameB))"
   ]
  },
  {
   "cell_type": "code",
   "execution_count": null,
   "id": "83b478a2",
   "metadata": {},
   "outputs": [],
   "source": []
  }
 ],
 "metadata": {
  "kernelspec": {
   "display_name": "Python 3 (ipykernel)",
   "language": "python",
   "name": "python3"
  },
  "language_info": {
   "codemirror_mode": {
    "name": "ipython",
    "version": 3
   },
   "file_extension": ".py",
   "mimetype": "text/x-python",
   "name": "python",
   "nbconvert_exporter": "python",
   "pygments_lexer": "ipython3",
   "version": "3.9.13"
  }
 },
 "nbformat": 4,
 "nbformat_minor": 5
}
