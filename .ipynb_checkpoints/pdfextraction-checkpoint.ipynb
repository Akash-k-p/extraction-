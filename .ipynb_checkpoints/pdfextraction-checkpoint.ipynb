{
 "cells": [
  {
   "cell_type": "code",
   "execution_count": 1,
   "id": "372919d2",
   "metadata": {},
   "outputs": [],
   "source": [
    "import re\n",
    "import json\n"
   ]
  },
  {
   "cell_type": "code",
   "execution_count": 2,
   "id": "2bfec4d5",
   "metadata": {},
   "outputs": [],
   "source": [
    "def extract_pdfminer1(str):\n",
    "\n",
    "    from pdfminer.high_level import extract_text\n",
    "\n",
    "    text = extract_text(str)\n",
    "    return text"
   ]
  },
  {
   "cell_type": "code",
   "execution_count": 3,
   "id": "5e56b8d9",
   "metadata": {},
   "outputs": [],
   "source": [
    "def extract_pdfminer2(str):\n",
    "    from io import StringIO\n",
    "\n",
    "    from pdfminer.converter import TextConverter\n",
    "    from pdfminer.layout import LAParams\n",
    "    from pdfminer.pdfdocument import PDFDocument\n",
    "    from pdfminer.pdfinterp import PDFResourceManager, PDFPageInterpreter\n",
    "    from pdfminer.pdfpage import PDFPage\n",
    "    from pdfminer.pdfparser import PDFParser\n",
    "\n",
    "    output_string = StringIO()\n",
    "    with open(str, 'rb') as in_file:\n",
    "        parser = PDFParser(in_file)\n",
    "        doc = PDFDocument(parser,password=\"AKAS2003\")\n",
    "        rsrcmgr = PDFResourceManager()\n",
    "        device = TextConverter(rsrcmgr, output_string, laparams=LAParams())\n",
    "        interpreter = PDFPageInterpreter(rsrcmgr, device)\n",
    "        for page in PDFPage.create_pages(doc):\n",
    "            interpreter.process_page(page)\n",
    "\n",
    "    return output_string.getvalue()\n",
    "    "
   ]
  },
  {
   "cell_type": "code",
   "execution_count": 4,
   "id": "6209dd4b",
   "metadata": {},
   "outputs": [],
   "source": [
    "def extract_pypdf2(path):\n",
    "    from PyPDF2 import  PdfReader\n",
    "    from io import StringIO\n",
    "    \n",
    "    a=PdfReader(path)\n",
    "    if a.is_encrypted:\n",
    "        #passw=input(\"Enter the password\")\n",
    "        a.decrypt('AKAS2003')\n",
    "    text=\"\"\n",
    "    for pageno in range(len(a.pages)):\n",
    "        text=text+a.pages[pageno].extract_text()\n",
    "    return text   \n",
    "        "
   ]
  },
  {
   "cell_type": "code",
   "execution_count": 5,
   "id": "7cad41fe",
   "metadata": {},
   "outputs": [],
   "source": [
    "def extract_pymupdf(path):\n",
    "    \n",
    "    #Usinf pymupdf\n",
    "    import fitz  # this is pymupdf\n",
    "    #extract text page by page\n",
    "    with fitz.open(path) as doc:\n",
    "        pymupdf_text = \"\"\n",
    "        if(doc.is_encrypted):\n",
    "                passw=input(\"Enter the password\")\n",
    "                doc.authenticate(password=passw)\n",
    "        for page in doc:\n",
    "            pymupdf_text += page.get_text(\"Text\")\n",
    "        return pymupdf_text    "
   ]
  },
  {
   "cell_type": "code",
   "execution_count": 6,
   "id": "cec59898",
   "metadata": {},
   "outputs": [],
   "source": [
    "class Aadhaar:\n",
    "    def __init__(self,path):\n",
    "        self.txt=extract_pymupdf(path)\n",
    "    def get_details(self):\n",
    "        pattern=re.compile(r'Enrolment No\\.: (?P<enrolment_no>[^\\n]*)\\nTo\\n[^\\n]*\\n(?P<name>[^\\n]*)\\n[S,W]\\/O: (?P<fathers_name>[^\\n]*)\\n(?P<address>.*)(?P<phonenumber>\\d{10})\\n(?P<aadhaar_number>^\\d{4} \\d{4} \\d{4}\\n).*(?P<vid>\\d{4} \\d{4} \\d{4} \\d{4})\\n.*DOB: (?P<dob>[^\\n]*)\\n.*(?P<gender>MALE|FEMALE|Female|Male)',re.M|re.A|re.S)\n",
    "       #gets all info in one match(enrolment to V) which can then be parsed by the groups\n",
    "        return  pattern.search(self.txt)    \n",
    "    def get_enrolment_no(self):\n",
    "        return self.get_details().group('enrolment_no')\n",
    "    def get_name(self):\n",
    "        return self.get_details().group('name')\n",
    "    def get_fathers_name(self):\n",
    "        return self.get_details().group('fathers_name')\n",
    "    def get_address(self):\n",
    "        return self.get_details().group('address')\n",
    "    def get_phonenumber(self):\n",
    "        return self.get_details().group('phonenumber')\n",
    "    def get_aadhaarnumber(self):\n",
    "        return self.get_details().group('aadhaar_number')\n",
    "    def get_vid(self):\n",
    "        return self.get_details().group('vid')\n",
    "    def get_gender(self):\n",
    "        return self.get_details().group('gender')\n",
    "    def get_dob(self):\n",
    "        return self.get_dob().group('dob')\n",
    "    def to_json(self,path):\n",
    "        dict={'VID':self.get_vid(),'Enrolment no':self.get_enrolment_no(),'Name':self.get_name(),\n",
    "      'Fathers name':self.get_fathers_name(),'Address':self.get_address(),'Phonenumber':self.get_phonenumber(),'Aadhaar number':self.get_aadhaarnumber(),'Gender':self.get_gender(),'DOB':self.get_dob()}\n",
    "        with open(path,'w') as f:\n",
    "            json.dump(dict,f,indent=2)\n",
    "        \n",
    "    \n",
    "        "
   ]
  },
  {
   "cell_type": "code",
   "execution_count": 7,
   "id": "cb231d2c",
   "metadata": {},
   "outputs": [],
   "source": [
    "str='EAadhaar_og.pdf'"
   ]
  },
  {
   "cell_type": "code",
   "execution_count": 8,
   "id": "83229b8a",
   "metadata": {},
   "outputs": [
    {
     "ename": "FileNotFoundError",
     "evalue": "no such file: 'EAadhaar_og.pdf'",
     "output_type": "error",
     "traceback": [
      "\u001b[1;31m---------------------------------------------------------------------------\u001b[0m",
      "\u001b[1;31mFileNotFoundError\u001b[0m                         Traceback (most recent call last)",
      "\u001b[1;32m~\\AppData\\Local\\Temp\\ipykernel_15704\\2973576588.py\u001b[0m in \u001b[0;36m<module>\u001b[1;34m\u001b[0m\n\u001b[1;32m----> 1\u001b[1;33m \u001b[0maad\u001b[0m\u001b[1;33m=\u001b[0m\u001b[0mAadhaar\u001b[0m\u001b[1;33m(\u001b[0m\u001b[0mstr\u001b[0m\u001b[1;33m)\u001b[0m\u001b[1;33m\u001b[0m\u001b[1;33m\u001b[0m\u001b[0m\n\u001b[0m",
      "\u001b[1;32m~\\AppData\\Local\\Temp\\ipykernel_15704\\966023556.py\u001b[0m in \u001b[0;36m__init__\u001b[1;34m(self, path)\u001b[0m\n\u001b[0;32m      1\u001b[0m \u001b[1;32mclass\u001b[0m \u001b[0mAadhaar\u001b[0m\u001b[1;33m:\u001b[0m\u001b[1;33m\u001b[0m\u001b[1;33m\u001b[0m\u001b[0m\n\u001b[0;32m      2\u001b[0m     \u001b[1;32mdef\u001b[0m \u001b[0m__init__\u001b[0m\u001b[1;33m(\u001b[0m\u001b[0mself\u001b[0m\u001b[1;33m,\u001b[0m\u001b[0mpath\u001b[0m\u001b[1;33m)\u001b[0m\u001b[1;33m:\u001b[0m\u001b[1;33m\u001b[0m\u001b[1;33m\u001b[0m\u001b[0m\n\u001b[1;32m----> 3\u001b[1;33m         \u001b[0mself\u001b[0m\u001b[1;33m.\u001b[0m\u001b[0mtxt\u001b[0m\u001b[1;33m=\u001b[0m\u001b[0mextract_pymupdf\u001b[0m\u001b[1;33m(\u001b[0m\u001b[0mpath\u001b[0m\u001b[1;33m)\u001b[0m\u001b[1;33m\u001b[0m\u001b[1;33m\u001b[0m\u001b[0m\n\u001b[0m\u001b[0;32m      4\u001b[0m     \u001b[1;32mdef\u001b[0m \u001b[0mget_details\u001b[0m\u001b[1;33m(\u001b[0m\u001b[0mself\u001b[0m\u001b[1;33m)\u001b[0m\u001b[1;33m:\u001b[0m\u001b[1;33m\u001b[0m\u001b[1;33m\u001b[0m\u001b[0m\n\u001b[0;32m      5\u001b[0m         \u001b[0mpattern\u001b[0m\u001b[1;33m=\u001b[0m\u001b[0mre\u001b[0m\u001b[1;33m.\u001b[0m\u001b[0mcompile\u001b[0m\u001b[1;33m(\u001b[0m\u001b[1;34mr'Enrolment No\\.: (?P<enrolment_no>[^\\n]*)\\nTo\\n[^\\n]*\\n(?P<name>[^\\n]*)\\n[S,W]\\/O: (?P<fathers_name>[^\\n]*)\\n(?P<address>.*)(?P<phonenumber>\\d{10})\\n(?P<aadhaar_number>^\\d{4} \\d{4} \\d{4}\\n).*(?P<vid>\\d{4} \\d{4} \\d{4} \\d{4})\\n.*DOB: (?P<dob>[^\\n]*)\\n.*(?P<gender>MALE|FEMALE|Female|Male)'\u001b[0m\u001b[1;33m,\u001b[0m\u001b[0mre\u001b[0m\u001b[1;33m.\u001b[0m\u001b[0mM\u001b[0m\u001b[1;33m|\u001b[0m\u001b[0mre\u001b[0m\u001b[1;33m.\u001b[0m\u001b[0mA\u001b[0m\u001b[1;33m|\u001b[0m\u001b[0mre\u001b[0m\u001b[1;33m.\u001b[0m\u001b[0mS\u001b[0m\u001b[1;33m)\u001b[0m\u001b[1;33m\u001b[0m\u001b[1;33m\u001b[0m\u001b[0m\n",
      "\u001b[1;32m~\\AppData\\Local\\Temp\\ipykernel_15704\\3290918039.py\u001b[0m in \u001b[0;36mextract_pymupdf\u001b[1;34m(path)\u001b[0m\n\u001b[0;32m      4\u001b[0m     \u001b[1;32mimport\u001b[0m \u001b[0mfitz\u001b[0m  \u001b[1;31m# this is pymupdf\u001b[0m\u001b[1;33m\u001b[0m\u001b[1;33m\u001b[0m\u001b[0m\n\u001b[0;32m      5\u001b[0m     \u001b[1;31m#extract text page by page\u001b[0m\u001b[1;33m\u001b[0m\u001b[1;33m\u001b[0m\u001b[0m\n\u001b[1;32m----> 6\u001b[1;33m     \u001b[1;32mwith\u001b[0m \u001b[0mfitz\u001b[0m\u001b[1;33m.\u001b[0m\u001b[0mopen\u001b[0m\u001b[1;33m(\u001b[0m\u001b[0mpath\u001b[0m\u001b[1;33m)\u001b[0m \u001b[1;32mas\u001b[0m \u001b[0mdoc\u001b[0m\u001b[1;33m:\u001b[0m\u001b[1;33m\u001b[0m\u001b[1;33m\u001b[0m\u001b[0m\n\u001b[0m\u001b[0;32m      7\u001b[0m         \u001b[0mpymupdf_text\u001b[0m \u001b[1;33m=\u001b[0m \u001b[1;34m\"\"\u001b[0m\u001b[1;33m\u001b[0m\u001b[1;33m\u001b[0m\u001b[0m\n\u001b[0;32m      8\u001b[0m         \u001b[1;32mif\u001b[0m\u001b[1;33m(\u001b[0m\u001b[0mdoc\u001b[0m\u001b[1;33m.\u001b[0m\u001b[0mis_encrypted\u001b[0m\u001b[1;33m)\u001b[0m\u001b[1;33m:\u001b[0m\u001b[1;33m\u001b[0m\u001b[1;33m\u001b[0m\u001b[0m\n",
      "\u001b[1;32m~\\anaconda3\\lib\\site-packages\\fitz\\fitz.py\u001b[0m in \u001b[0;36m__init__\u001b[1;34m(self, filename, stream, filetype, rect, width, height, fontsize)\u001b[0m\n\u001b[0;32m   3951\u001b[0m             \u001b[1;32mif\u001b[0m \u001b[1;32mnot\u001b[0m \u001b[0mos\u001b[0m\u001b[1;33m.\u001b[0m\u001b[0mpath\u001b[0m\u001b[1;33m.\u001b[0m\u001b[0mexists\u001b[0m\u001b[1;33m(\u001b[0m\u001b[0mfilename\u001b[0m\u001b[1;33m)\u001b[0m\u001b[1;33m:\u001b[0m\u001b[1;33m\u001b[0m\u001b[1;33m\u001b[0m\u001b[0m\n\u001b[0;32m   3952\u001b[0m                 \u001b[0mmsg\u001b[0m \u001b[1;33m=\u001b[0m \u001b[1;34mf\"no such file: '{filename}'\"\u001b[0m\u001b[1;33m\u001b[0m\u001b[1;33m\u001b[0m\u001b[0m\n\u001b[1;32m-> 3953\u001b[1;33m                 \u001b[1;32mraise\u001b[0m \u001b[0mFileNotFoundError\u001b[0m\u001b[1;33m(\u001b[0m\u001b[0mmsg\u001b[0m\u001b[1;33m)\u001b[0m\u001b[1;33m\u001b[0m\u001b[1;33m\u001b[0m\u001b[0m\n\u001b[0m\u001b[0;32m   3954\u001b[0m             \u001b[1;32melif\u001b[0m \u001b[1;32mnot\u001b[0m \u001b[0mos\u001b[0m\u001b[1;33m.\u001b[0m\u001b[0mpath\u001b[0m\u001b[1;33m.\u001b[0m\u001b[0misfile\u001b[0m\u001b[1;33m(\u001b[0m\u001b[0mfilename\u001b[0m\u001b[1;33m)\u001b[0m\u001b[1;33m:\u001b[0m\u001b[1;33m\u001b[0m\u001b[1;33m\u001b[0m\u001b[0m\n\u001b[0;32m   3955\u001b[0m                 \u001b[0mmsg\u001b[0m \u001b[1;33m=\u001b[0m \u001b[1;34mf\"'{filename}' is no file\"\u001b[0m\u001b[1;33m\u001b[0m\u001b[1;33m\u001b[0m\u001b[0m\n",
      "\u001b[1;31mFileNotFoundError\u001b[0m: no such file: 'EAadhaar_og.pdf'"
     ]
    }
   ],
   "source": [
    "aad=Aadhaar(str)"
   ]
  },
  {
   "cell_type": "code",
   "execution_count": 9,
   "id": "352adce0",
   "metadata": {},
   "outputs": [
    {
     "ename": "NameError",
     "evalue": "name 'aad' is not defined",
     "output_type": "error",
     "traceback": [
      "\u001b[1;31m---------------------------------------------------------------------------\u001b[0m",
      "\u001b[1;31mNameError\u001b[0m                                 Traceback (most recent call last)",
      "\u001b[1;32m~\\AppData\\Local\\Temp\\ipykernel_15704\\826556571.py\u001b[0m in \u001b[0;36m<module>\u001b[1;34m\u001b[0m\n\u001b[1;32m----> 1\u001b[1;33m \u001b[0maad\u001b[0m\u001b[1;33m.\u001b[0m\u001b[0mto_json\u001b[0m\u001b[1;33m(\u001b[0m\u001b[1;34m'newjson.json'\u001b[0m\u001b[1;33m)\u001b[0m\u001b[1;33m\u001b[0m\u001b[1;33m\u001b[0m\u001b[0m\n\u001b[0m",
      "\u001b[1;31mNameError\u001b[0m: name 'aad' is not defined"
     ]
    }
   ],
   "source": [
    "aad.to_json('newjson.json')"
   ]
  },
  {
   "cell_type": "code",
   "execution_count": null,
   "id": "665f8036",
   "metadata": {},
   "outputs": [],
   "source": [
    "def getaddrssnaddhrno(txt):\n",
    "    pattern=re.compile(r'Enrolment No\\.: (?P<enrolment_no>[^\\n]*)\\nTo\\n[^\\n]*\\n(?P<name>[^\\n]*)\\n[S,W]/O: (?P<fathers_name>[^\\n]*)\\n(?P<address>.*)(?P<phonenumber>\\d{10})\\n(?P<aadhar_number>^\\d{4} \\d{4} \\d{4})\\n.*(?P<vid>\\d{4} \\d{4} \\d{4} \\d{4})\\n',re.M|re.A|re.S)\n",
    "   #gets all info in one match(enrolment to V) which can then be parsed by the groups\n",
    "    return  pattern.search(txt)\n"
   ]
  },
  {
   "cell_type": "code",
   "execution_count": null,
   "id": "a18be47a",
   "metadata": {},
   "outputs": [],
   "source": [
    "def to_json_file(dict):\n",
    "    with open('aadhaar_info.json','w') as f:\n",
    "        json.dump(dict,f,indent=2)\n",
    "    "
   ]
  },
  {
   "cell_type": "code",
   "execution_count": null,
   "id": "7aa2770d",
   "metadata": {},
   "outputs": [],
   "source": [
    "with open('scannedpymupdf.txt','w') as f:\n",
    "    dict={'VID':get_vid(),'Enrolment no':get_enrolment,'Name':matchobj.group('name'),\n",
    "      'Fathers name':matchobj.group('fathers_name'),'Address':matchobj.group('address'),'Phonenumber':matchobj.group('phonenumber'),'Aadhaar number':matchobj.group('aadhar_number')}\n",
    "    f.write(extract_pymupdf(str4))"
   ]
  },
  {
   "cell_type": "code",
   "execution_count": null,
   "id": "91501f10",
   "metadata": {},
   "outputs": [],
   "source": [
    "txt=extract_pymupdf(str6) \n",
    "matchobj=getaddrssnaddhrno(txt)\n",
    "dict={'VID':matchobj.group('vid'),'Enrolment no':matchobj.group('enrolment_no'),'Name':matchobj.group('name'),\n",
    "      'Fathers name':matchobj.group('fathers_name'),'Address':matchobj.group('address'),'Phonenumber':matchobj.group('phonenumber'),'Aadhaar number':matchobj.group('aadhar_number')}\n"
   ]
  },
  {
   "cell_type": "code",
   "execution_count": null,
   "id": "bbb205ce",
   "metadata": {},
   "outputs": [],
   "source": [
    "to_json_file(dict)"
   ]
  },
  {
   "cell_type": "code",
   "execution_count": null,
   "id": "08ab9997",
   "metadata": {},
   "outputs": [],
   "source": [
    "print(extract_pymupdf(str4))"
   ]
  },
  {
   "cell_type": "code",
   "execution_count": null,
   "id": "64077884",
   "metadata": {},
   "outputs": [],
   "source": []
  }
 ],
 "metadata": {
  "kernelspec": {
   "display_name": "Python 3 (ipykernel)",
   "language": "python",
   "name": "python3"
  },
  "language_info": {
   "codemirror_mode": {
    "name": "ipython",
    "version": 3
   },
   "file_extension": ".py",
   "mimetype": "text/x-python",
   "name": "python",
   "nbconvert_exporter": "python",
   "pygments_lexer": "ipython3",
   "version": "3.9.13"
  }
 },
 "nbformat": 4,
 "nbformat_minor": 5
}
