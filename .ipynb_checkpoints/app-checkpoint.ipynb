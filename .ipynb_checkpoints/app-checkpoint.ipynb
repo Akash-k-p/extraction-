{
 "cells": [
  {
   "cell_type": "code",
   "execution_count": 8,
   "id": "44696092",
   "metadata": {},
   "outputs": [],
   "source": [
    "import json\n",
    "import re"
   ]
  },
  {
   "cell_type": "code",
   "execution_count": 9,
   "id": "eef74f6f",
   "metadata": {},
   "outputs": [],
   "source": [
    "%run pdf_extraction.ipynb \n",
    "%run img_extraction.ipynb  #importing other ipynb"
   ]
  },
  {
   "cell_type": "code",
   "execution_count": 10,
   "id": "51202ba7",
   "metadata": {},
   "outputs": [],
   "source": [
    "fileName=\"EAadhaar_og.pdf\""
   ]
  },
  {
   "cell_type": "code",
   "execution_count": 11,
   "id": "284ebea1",
   "metadata": {},
   "outputs": [],
   "source": [
    "fileNameB='small_f.jpg'                                             #backside of the aadhar card (address side)\n",
    "fileNameF='small_b.jpg'                                             #front side of the aadhaar card(name side)"
   ]
  },
  {
   "cell_type": "code",
   "execution_count": null,
   "id": "dfeb3ec3",
   "metadata": {},
   "outputs": [],
   "source": []
  },
  {
   "cell_type": "code",
   "execution_count": 12,
   "id": "dfebed62",
   "metadata": {},
   "outputs": [],
   "source": [
    "def file_type(filePath):\n",
    "    if re.match(\".*\\.pdf$\",filePath,re.M|re.I):\n",
    "        return 'pdf'\n",
    "    else:\n",
    "        return 'img'"
   ]
  },
  {
   "cell_type": "code",
   "execution_count": 13,
   "id": "4fcafc2e",
   "metadata": {},
   "outputs": [],
   "source": [
    "def to_json(filePath1,filePath2=0):\n",
    "    fileType=file_type(filePath1)\n",
    "    if(fileType)=='pdf':\n",
    "        dict=get_details_pdf(fileName)\n",
    "    elif(fileType)=='img':\n",
    "        dict=get_details_img(filePath1,filePath2)\n",
    "    try:                                            \n",
    "        f=open('jsonbrandnew.json','r+')\n",
    "    except FileNotFoundError:                      #for the first time\n",
    "        f=open('jsonbrandnew.json','w+')\n",
    "    try:\n",
    "            maindict=json.load(f)                     \n",
    "    except ValueError:                             #for the first time\n",
    "            print(\"value error\")\n",
    "            maindict={}\n",
    "            \n",
    "    if dict['Aadhaar Number'] in maindict.keys():\n",
    "        choice=input(\"This aadhar number is already present in the database:\\n Do you want to update the the data for this aadhaar number (y\\n)?\")\n",
    "        if choice.lower()=='n':\n",
    "            f.close()\n",
    "            return\n",
    "    \n",
    "    \n",
    "    maindict[dict['Aadhaar Number']]=dict\n",
    "    f.seek(0)\n",
    "    json.dump(maindict,f,indent=2)\n",
    "    f.close()        \n",
    "        \n",
    "        \n",
    "        \n"
   ]
  },
  {
   "cell_type": "code",
   "execution_count": 14,
   "id": "16dbb75f",
   "metadata": {},
   "outputs": [
    {
     "name": "stdout",
     "output_type": "stream",
     "text": [
      "90\n",
      "90\n"
     ]
    },
    {
     "name": "stderr",
     "output_type": "stream",
     "text": [
      "C:\\Users\\91886\\AppData\\Local\\Temp\\ipykernel_9952\\3062450360.py:16: DeprecationWarning: NEAREST is deprecated and will be removed in Pillow 10 (2023-07-01). Use Resampling.NEAREST or Dither.NONE instead.\n",
      "  im = im.rotate(angle_back,Image.NEAREST, expand = 1)\n"
     ]
    },
    {
     "name": "stdout",
     "output_type": "stream",
     "text": [
      " Pundarika\n",
      "This aadhar number is already present in the database:\n",
      " Do you want to update the the data for this aadhaar number (y\n",
      ")?y\n"
     ]
    }
   ],
   "source": [
    "to_json(fileNameF,fileNameB)"
   ]
  },
  {
   "cell_type": "code",
   "execution_count": 33,
   "id": "78ea7ab5",
   "metadata": {},
   "outputs": [
    {
     "name": "stdout",
     "output_type": "stream",
     "text": [
      "img\n"
     ]
    }
   ],
   "source": []
  },
  {
   "cell_type": "code",
   "execution_count": null,
   "id": "83b478a2",
   "metadata": {},
   "outputs": [],
   "source": []
  }
 ],
 "metadata": {
  "kernelspec": {
   "display_name": "Python 3 (ipykernel)",
   "language": "python",
   "name": "python3"
  },
  "language_info": {
   "codemirror_mode": {
    "name": "ipython",
    "version": 3
   },
   "file_extension": ".py",
   "mimetype": "text/x-python",
   "name": "python",
   "nbconvert_exporter": "python",
   "pygments_lexer": "ipython3",
   "version": "3.9.13"
  }
 },
 "nbformat": 4,
 "nbformat_minor": 5
}
