{
 "cells": [
  {
   "cell_type": "code",
   "execution_count": 53,
   "id": "44696092",
   "metadata": {},
   "outputs": [],
   "source": [
    "import json"
   ]
  },
  {
   "cell_type": "code",
   "execution_count": 54,
   "id": "eef74f6f",
   "metadata": {},
   "outputs": [],
   "source": [
    "%run pdf_extraction.ipynb \n",
    "%run img_extraction.ipynb  #importing other ipynb"
   ]
  },
  {
   "cell_type": "code",
   "execution_count": 55,
   "id": "51202ba7",
   "metadata": {},
   "outputs": [],
   "source": [
    "fileName=\"EAadhaar_og.pdf\""
   ]
  },
  {
   "cell_type": "code",
   "execution_count": 56,
   "id": "284ebea1",
   "metadata": {},
   "outputs": [],
   "source": [
    "fileNameB='small_f.jpg'                                             #backside of the aadhar card (address side)\n",
    "fileNameF='small_b.jpg'                                             #front side of the aadhaar card(name side)"
   ]
  },
  {
   "cell_type": "code",
   "execution_count": 57,
   "id": "dfeb3ec3",
   "metadata": {},
   "outputs": [
    {
     "name": "stdout",
     "output_type": "stream",
     "text": [
      "Enter the type of file(pdf|img)pdf\n"
     ]
    }
   ],
   "source": [
    "fileType=input(\"Enter the type of file(pdf|img)\")"
   ]
  },
  {
   "cell_type": "code",
   "execution_count": 58,
   "id": "4fcafc2e",
   "metadata": {},
   "outputs": [],
   "source": [
    "def to_json():\n",
    "    if(fileType)=='pdf':\n",
    "        dict=get_details_pdf(fileName)\n",
    "    elif(fileType)=='img':\n",
    "        dict=get_details_img(fileNameF,fileNameB)\n",
    "    with open('jsonbrandnew.json','w') as f:\n",
    "        json.dump(dict,f,indent=2)"
   ]
  },
  {
   "cell_type": "code",
   "execution_count": 59,
   "id": "16dbb75f",
   "metadata": {},
   "outputs": [
    {
     "name": "stdout",
     "output_type": "stream",
     "text": [
      "Enter the passwordAKAS2003\n"
     ]
    }
   ],
   "source": [
    "to_json()"
   ]
  },
  {
   "cell_type": "code",
   "execution_count": null,
   "id": "78ea7ab5",
   "metadata": {},
   "outputs": [],
   "source": []
  }
 ],
 "metadata": {
  "kernelspec": {
   "display_name": "Python 3 (ipykernel)",
   "language": "python",
   "name": "python3"
  },
  "language_info": {
   "codemirror_mode": {
    "name": "ipython",
    "version": 3
   },
   "file_extension": ".py",
   "mimetype": "text/x-python",
   "name": "python",
   "nbconvert_exporter": "python",
   "pygments_lexer": "ipython3",
   "version": "3.9.13"
  }
 },
 "nbformat": 4,
 "nbformat_minor": 5
}
