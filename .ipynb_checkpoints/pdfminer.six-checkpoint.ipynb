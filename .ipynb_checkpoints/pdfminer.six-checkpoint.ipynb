{
 "cells": [
  {
   "cell_type": "code",
   "execution_count": 1,
   "id": "2bfec4d5",
   "metadata": {},
   "outputs": [],
   "source": [
    "def extract_pdfminer1(str):\n",
    "\n",
    "    from pdfminer.high_level import extract_text\n",
    "\n",
    "    text = extract_text(str)\n",
    "    return text"
   ]
  },
  {
   "cell_type": "code",
   "execution_count": 2,
   "id": "5e56b8d9",
   "metadata": {},
   "outputs": [],
   "source": [
    "def extract_pdfminer2(str):\n",
    "    from io import StringIO\n",
    "\n",
    "    from pdfminer.converter import TextConverter\n",
    "    from pdfminer.layout import LAParams\n",
    "    from pdfminer.pdfdocument import PDFDocument\n",
    "    from pdfminer.pdfinterp import PDFResourceManager, PDFPageInterpreter\n",
    "    from pdfminer.pdfpage import PDFPage\n",
    "    from pdfminer.pdfparser import PDFParser\n",
    "\n",
    "    output_string = StringIO()\n",
    "    with open(str, 'rb') as in_file:\n",
    "        parser = PDFParser(in_file)\n",
    "        doc = PDFDocument(parser)\n",
    "        rsrcmgr = PDFResourceManager()\n",
    "        device = TextConverter(rsrcmgr, output_string, laparams=LAParams())\n",
    "        interpreter = PDFPageInterpreter(rsrcmgr, device)\n",
    "        for page in PDFPage.create_pages(doc):\n",
    "            interpreter.process_page(page)\n",
    "\n",
    "    return output_string.getvalue()\n",
    "    "
   ]
  },
  {
   "cell_type": "code",
   "execution_count": 3,
   "id": "6209dd4b",
   "metadata": {},
   "outputs": [],
   "source": [
    "def extract_pypdf2(path):\n",
    "    from PyPDF2 import  PdfReader\n",
    "    from io import StringIO\n",
    "    \n",
    "    a=PdfReader(path)\n",
    "    text=\"\"\n",
    "    for pageno in range(len(a.pages)):\n",
    "        text=text+a.pages[pageno].extract_text()\n",
    "    return text   \n",
    "        "
   ]
  },
  {
   "cell_type": "code",
   "execution_count": 4,
   "id": "0f379fd7",
   "metadata": {},
   "outputs": [],
   "source": [
    "\n",
    "str4='./EAadhar.pdf'"
   ]
  },
  {
   "cell_type": "code",
   "execution_count": 7,
   "id": "868b7f2f",
   "metadata": {},
   "outputs": [
    {
     "name": "stdout",
     "output_type": "stream",
     "text": [
      "\f",
      "\n"
     ]
    }
   ],
   "source": [
    "print(extract_pdfminer2(str4))"
   ]
  },
  {
   "cell_type": "code",
   "execution_count": 8,
   "id": "fa219801",
   "metadata": {},
   "outputs": [],
   "source": [
    "f=open('output.txt','w')"
   ]
  },
  {
   "cell_type": "code",
   "execution_count": 9,
   "id": "f1fc6f8b",
   "metadata": {},
   "outputs": [
    {
     "data": {
      "text/plain": [
       "0"
      ]
     },
     "execution_count": 9,
     "metadata": {},
     "output_type": "execute_result"
    }
   ],
   "source": [
    "f.write(extract_pypdf2(str4))"
   ]
  },
  {
   "cell_type": "code",
   "execution_count": 10,
   "id": "ab4b8090",
   "metadata": {},
   "outputs": [],
   "source": [
    "f1=open('output1.txt','w')\n"
   ]
  },
  {
   "cell_type": "code",
   "execution_count": 11,
   "id": "b963e8fc",
   "metadata": {},
   "outputs": [
    {
     "data": {
      "text/plain": [
       "0"
      ]
     },
     "execution_count": 11,
     "metadata": {},
     "output_type": "execute_result"
    }
   ],
   "source": [
    "f1.write(extract_pypdf2(str4))"
   ]
  },
  {
   "cell_type": "code",
   "execution_count": null,
   "id": "45691194",
   "metadata": {},
   "outputs": [],
   "source": []
  }
 ],
 "metadata": {
  "kernelspec": {
   "display_name": "Python 3 (ipykernel)",
   "language": "python",
   "name": "python3"
  },
  "language_info": {
   "codemirror_mode": {
    "name": "ipython",
    "version": 3
   },
   "file_extension": ".py",
   "mimetype": "text/x-python",
   "name": "python",
   "nbconvert_exporter": "python",
   "pygments_lexer": "ipython3",
   "version": "3.9.13"
  }
 },
 "nbformat": 4,
 "nbformat_minor": 5
}
